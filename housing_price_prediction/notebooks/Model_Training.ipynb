{
 "cells": [
  {
   "cell_type": "code",
   "execution_count": 4,
   "metadata": {},
   "outputs": [
    {
     "name": "stdout",
     "output_type": "stream",
     "text": [
      "Random Forest - Training MSE: 154529367020.07, Training R-squared: 0.95\n",
      "Random Forest - Test MSE: 1961585044320.34, Test R-squared: 0.61\n"
     ]
    }
   ],
   "source": [
    "from sklearn.ensemble import RandomForestRegressor\n",
    "from sklearn.metrics import mean_squared_error, r2_score\n",
    "import sys\n",
    "import os\n",
    "\n",
    "sys.path.append(os.path.dirname(os.path.dirname(os.getcwd())))\n",
    "\n",
    "\n",
    "from housing_price_prediction.scripts.preprocess_data import load_and_preprocess_data\n",
    "\n",
    "# Load the processed data\n",
    "X_train, X_test, y_train, y_test = load_and_preprocess_data()\n",
    "\n",
    "# Initialize the Random Forest model\n",
    "random_forest_model = RandomForestRegressor(n_estimators=100, random_state=42)\n",
    "\n",
    "# Fit the model on the training data\n",
    "random_forest_model.fit(X_train, y_train)\n",
    "\n",
    "# Predict and evaluate the model on the training set\n",
    "y_train_pred_rf = random_forest_model.predict(X_train)\n",
    "train_mse_rf = mean_squared_error(y_train, y_train_pred_rf)\n",
    "train_r2_rf = r2_score(y_train, y_train_pred_rf)\n",
    "\n",
    "# Predict and evaluate the model on the test set\n",
    "y_test_pred_rf = random_forest_model.predict(X_test)\n",
    "test_mse_rf = mean_squared_error(y_test, y_test_pred_rf)\n",
    "test_r2_rf = r2_score(y_test, y_test_pred_rf)\n",
    "\n",
    "print(f\"Random Forest - Training MSE: {train_mse_rf:.2f}, Training R-squared: {train_r2_rf:.2f}\")\n",
    "print(f\"Random Forest - Test MSE: {test_mse_rf:.2f}, Test R-squared: {test_r2_rf:.2f}\")"
   ]
  },
  {
   "cell_type": "code",
   "execution_count": 6,
   "metadata": {},
   "outputs": [
    {
     "name": "stdout",
     "output_type": "stream",
     "text": [
      "GBM - Training MSE: 424108142514.51, Training R-squared: 0.86\n",
      "GBM - Test MSE: 1693306118911.06, Test R-squared: 0.66\n"
     ]
    }
   ],
   "source": [
    "from sklearn.ensemble import GradientBoostingRegressor\n",
    "from sklearn.metrics import mean_squared_error, r2_score\n",
    "import sys\n",
    "import os\n",
    "\n",
    "sys.path.append(os.path.dirname(os.path.dirname(os.getcwd())))\n",
    "\n",
    "\n",
    "from housing_price_prediction.scripts.preprocess_data import load_and_preprocess_data\n",
    "# Load the processed data\n",
    "X_train, X_test, y_train, y_test = load_and_preprocess_data()\n",
    "\n",
    "# Initialize the GBM model\n",
    "gbm_model = GradientBoostingRegressor(n_estimators=100, learning_rate=0.1, max_depth=3, random_state=42)\n",
    "\n",
    "# Fit the model on the training data\n",
    "gbm_model.fit(X_train, y_train)\n",
    "\n",
    "# Predict and evaluate the model on the training set\n",
    "y_train_pred_gbm = gbm_model.predict(X_train)\n",
    "train_mse_gbm = mean_squared_error(y_train, y_train_pred_gbm)\n",
    "train_r2_gbm = r2_score(y_train, y_train_pred_gbm)\n",
    "\n",
    "# Predict and evaluate the model on the test set\n",
    "y_test_pred_gbm = gbm_model.predict(X_test)\n",
    "test_mse_gbm = mean_squared_error(y_test, y_test_pred_gbm)\n",
    "test_r2_gbm = r2_score(y_test, y_test_pred_gbm)\n",
    "\n",
    "print(f\"GBM - Training MSE: {train_mse_gbm:.2f}, Training R-squared: {train_r2_gbm:.2f}\")\n",
    "print(f\"GBM - Test MSE: {test_mse_gbm:.2f}, Test R-squared: {test_r2_gbm:.2f}\")"
   ]
  },
  {
   "cell_type": "code",
   "execution_count": 7,
   "metadata": {},
   "outputs": [
    {
     "name": "stdout",
     "output_type": "stream",
     "text": [
      "Best parameters: {'learning_rate': 0.05, 'max_depth': 3, 'min_samples_split': 2, 'n_estimators': 100}\n",
      "Best cross-validation score: 0.60\n"
     ]
    }
   ],
   "source": [
    "from sklearn.ensemble import GradientBoostingRegressor\n",
    "from sklearn.model_selection import GridSearchCV\n",
    "import sys\n",
    "import os\n",
    "\n",
    "sys.path.append(os.path.dirname(os.path.dirname(os.getcwd())))\n",
    "\n",
    "\n",
    "from housing_price_prediction.scripts.preprocess_data import load_and_preprocess_data\n",
    "X_train, X_test, y_train, y_test = load_and_preprocess_data()\n",
    "\n",
    "# Define a set of parameters to test\n",
    "param_grid = {\n",
    "    'n_estimators': [100, 200],\n",
    "    'max_depth': [3, 4],\n",
    "    'learning_rate': [0.05, 0.1],\n",
    "    'min_samples_split': [2, 4]\n",
    "}\n",
    "\n",
    "gbm = GradientBoostingRegressor(random_state=42)\n",
    "grid_search = GridSearchCV(estimator=gbm, param_grid=param_grid, cv=3, scoring='r2')\n",
    "grid_search.fit(X_train, y_train)\n",
    "\n",
    "print(\"Best parameters:\", grid_search.best_params_)\n",
    "print(\"Best cross-validation score: {:.2f}\".format(grid_search.best_score_))"
   ]
  },
  {
   "cell_type": "code",
   "execution_count": 8,
   "metadata": {},
   "outputs": [
    {
     "name": "stdout",
     "output_type": "stream",
     "text": [
      "GBM with Best Parameters - Test MSE: 1765664723059.14, Test R-squared: 0.65\n"
     ]
    }
   ],
   "source": [
    "from sklearn.ensemble import GradientBoostingRegressor\n",
    "from sklearn.model_selection import GridSearchCV\n",
    "import sys\n",
    "import os\n",
    "\n",
    "sys.path.append(os.path.dirname(os.path.dirname(os.getcwd())))\n",
    "\n",
    "\n",
    "from housing_price_prediction.scripts.preprocess_data import load_and_preprocess_data\n",
    "X_train, X_test, y_train, y_test = load_and_preprocess_data()\n",
    "\n",
    "# Initialize the GBM model with the best parameters\n",
    "gbm_best = GradientBoostingRegressor(\n",
    "    learning_rate=0.05,\n",
    "    max_depth=3,\n",
    "    min_samples_split=2,\n",
    "    n_estimators=100,\n",
    "    random_state=42\n",
    ")\n",
    "\n",
    "# Fit the model on the training data\n",
    "gbm_best.fit(X_train, y_train)\n",
    "\n",
    "# Predict and evaluate the model on the test set\n",
    "y_test_pred = gbm_best.predict(X_test)\n",
    "test_mse = mean_squared_error(y_test, y_test_pred)\n",
    "test_r2 = r2_score(y_test, y_test_pred)\n",
    "\n",
    "print(f\"GBM with Best Parameters - Test MSE: {test_mse:.2f}, Test R-squared: {test_r2:.2f}\")"
   ]
  },
  {
   "cell_type": "code",
   "execution_count": 11,
   "metadata": {},
   "outputs": [
    {
     "name": "stdout",
     "output_type": "stream",
     "text": [
      "Test MSE: 2043498756605.84, Test R-squared: 0.60\n"
     ]
    }
   ],
   "source": [
    "import numpy as np\n",
    "import sys\n",
    "import os\n",
    "\n",
    "sys.path.append(os.path.dirname(os.path.dirname(os.getcwd())))\n",
    "from housing_price_prediction.scripts.preprocess_data import load_and_preprocess_data\n",
    "\n",
    "# Load the processed data\n",
    "X_train, X_test, y_train, y_test = load_and_preprocess_data()\n",
    "model = RandomForestRegressor(n_estimators=100, random_state=42)\n",
    "\n",
    "\n",
    "\n",
    "# Applying log transformation\n",
    "y_train_log = np.log(y_train)\n",
    "y_test_log = np.log(y_test)\n",
    "\n",
    "# Fit the model on the transformed data\n",
    "model.fit(X_train, y_train_log)\n",
    "\n",
    "# Predict on the test set\n",
    "y_test_pred_log = model.predict(X_test)\n",
    "y_test_pred = np.exp(y_test_pred_log)  # Transform back to the original scale\n",
    "\n",
    "# Calculate MSE on the original scale\n",
    "test_mse = mean_squared_error(y_test, y_test_pred)\n",
    "test_r2 = r2_score(y_test, y_test_pred)\n",
    "print(f\"Test MSE: {test_mse:.2f}, Test R-squared: {test_r2:.2f}\")"
   ]
  }
 ],
 "metadata": {
  "kernelspec": {
   "display_name": "Python 3",
   "language": "python",
   "name": "python3"
  },
  "language_info": {
   "codemirror_mode": {
    "name": "ipython",
    "version": 3
   },
   "file_extension": ".py",
   "mimetype": "text/x-python",
   "name": "python",
   "nbconvert_exporter": "python",
   "pygments_lexer": "ipython3",
   "version": "3.13.0"
  }
 },
 "nbformat": 4,
 "nbformat_minor": 2
}
